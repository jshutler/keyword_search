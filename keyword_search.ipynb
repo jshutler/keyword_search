{
 "cells": [
  {
   "cell_type": "code",
   "execution_count": 1,
   "metadata": {},
   "outputs": [],
   "source": [
    "import pandas as pd "
   ]
  },
  {
   "cell_type": "code",
   "execution_count": 40,
   "metadata": {},
   "outputs": [],
   "source": [
    "my_json_url = 'https://jackshutler.github.io/datasets/CABLES_QA.json'\n",
    "\n",
    "cables = pd.read_json(my_json_url)"
   ]
  },
  {
   "cell_type": "code",
   "execution_count": 44,
   "metadata": {},
   "outputs": [],
   "source": [
    "cables_json = {\"data\": list(cables.data)}\n",
    "contexts = {doc[\"paragraphs\"][0]['document_id']: doc[\"paragraphs\"][0]['context'] for doc in cables_json[\"data\"]}"
   ]
  },
  {
   "cell_type": "code",
   "execution_count": 76,
   "metadata": {},
   "outputs": [],
   "source": [
    "from collections import defaultdict\n",
    "def keyword_search(contexts, query, preprocessing=True):\n",
    "    if preprocessing:\n",
    "        query = query.upper()\n",
    "        query = query.split()\n",
    "    else:\n",
    "        query = [query]\n",
    "    \n",
    "    matching_contexts = defaultdict(set)\n",
    "    for doc_id, context in contexts.items():\n",
    "        for word in query:\n",
    "            if word in context:\n",
    "                matching_contexts[doc_id].add(word)\n",
    "    \n",
    "    # return the doc_ids sorted by the number of found words in a given context\n",
    "    return list(dict(sorted(matching_contexts.items(), key=lambda ele: len(ele[1]), reverse=True)).keys())\n",
    "\n"
   ]
  },
  {
   "cell_type": "code",
   "execution_count": 79,
   "metadata": {},
   "outputs": [
    {
     "data": {
      "text/plain": [
       "0.9907407407407407"
      ]
     },
     "execution_count": 79,
     "metadata": {},
     "output_type": "execute_result"
    }
   ],
   "source": [
    "\n",
    "from pprint import pprint\n",
    "\n",
    "def test_keyword_search(squad_json, contexts, top_k=5):\n",
    "    hits = 0\n",
    "    num_questions = 0\n",
    "    for doc in squad_json[\"data\"]:\n",
    "        paragraphs = doc[\"paragraphs\"][0]\n",
    "        qas = paragraphs[\"qas\"]\n",
    "        context = paragraphs[\"context\"]\n",
    "        document_id = paragraphs[\"document_id\"]\n",
    "        for qa in qas:\n",
    "            possible_matches = keyword_search(contexts, qa[\"question\"])\n",
    "            # search through the top_k matches, or however many we're found\n",
    "            hits += 1 if document_id in possible_matches[:min(len(possible_matches), top_k)] else 0\n",
    "            num_questions += 1\n",
    "    \n",
    "    return hits / num_questions\n",
    "\n",
    "test_keyword_search(cables_json, contexts, 10)\n",
    "    "
   ]
  },
  {
   "cell_type": "code",
   "execution_count": 51,
   "metadata": {},
   "outputs": [
    {
     "data": {
      "text/plain": [
       "defaultdict(set,\n",
       "            {1000001: {'IS'},\n",
       "             1000004: {'IS'},\n",
       "             1000005: {'IS'},\n",
       "             1000007: {'IS'},\n",
       "             1000010: {'IS'},\n",
       "             1000012: {'IS'},\n",
       "             1000014: {'IS'},\n",
       "             1000016: {'IS'},\n",
       "             1000018: {'IS'},\n",
       "             1000020: {'IS'},\n",
       "             1000017: {'IS'},\n",
       "             1000019: {'IS'},\n",
       "             1000021: {'IS'},\n",
       "             1000023: {'IS'},\n",
       "             1000025: {'IS'},\n",
       "             1000027: {'IS'},\n",
       "             1000029: {'IS'},\n",
       "             1000031: {'IS', 'WHO'},\n",
       "             1000033: {'IS', 'WHO'},\n",
       "             1000035: {'IS'},\n",
       "             1000039: {'IS'},\n",
       "             1000041: {'IS'},\n",
       "             1000043: {'IS'},\n",
       "             1000045: {'IS'},\n",
       "             1000044: {'IS'},\n",
       "             1000046: {'IS'},\n",
       "             1000048: {'IS'},\n",
       "             1000050: {'IS'},\n",
       "             1000052: {'IS', 'WHO'},\n",
       "             1000058: {'IS'},\n",
       "             1000060: {'IS'},\n",
       "             1000000: {'IS'},\n",
       "             1000002: {'IS'},\n",
       "             1000003: {'IS', 'WHO'},\n",
       "             1000006: {'IS'},\n",
       "             1000008: {'IS', 'WHO'},\n",
       "             1000011: {'IS', 'WHO'},\n",
       "             1000013: {'IS'},\n",
       "             1000015: {'IS'},\n",
       "             1000022: {'IS'},\n",
       "             1000024: {'IS'},\n",
       "             1000028: {'IS'},\n",
       "             1000030: {'IS'},\n",
       "             1000032: {'IS', 'WHO'},\n",
       "             1000034: {'IS', 'WHO'},\n",
       "             1000036: {'IS', 'WHO'},\n",
       "             1000038: {'IS', 'WHO'},\n",
       "             1000040: {'IS'},\n",
       "             1000042: {'IS'},\n",
       "             1000047: {'IS'},\n",
       "             1000049: {'IS'},\n",
       "             1000051: {'IS'},\n",
       "             1000055: {'IS'},\n",
       "             1000057: {'IS', 'WHO'},\n",
       "             1000059: {'FSO', 'IS', 'WARREN'}})"
      ]
     },
     "execution_count": 51,
     "metadata": {},
     "output_type": "execute_result"
    }
   ],
   "source": [
    "possible_matches"
   ]
  }
 ],
 "metadata": {
  "kernelspec": {
   "display_name": "Python 3.8.10 64-bit",
   "language": "python",
   "name": "python3"
  },
  "language_info": {
   "codemirror_mode": {
    "name": "ipython",
    "version": 3
   },
   "file_extension": ".py",
   "mimetype": "text/x-python",
   "name": "python",
   "nbconvert_exporter": "python",
   "pygments_lexer": "ipython3",
   "version": "3.8.10"
  },
  "orig_nbformat": 4,
  "vscode": {
   "interpreter": {
    "hash": "31f2aee4e71d21fbe5cf8b01ff0e069b9275f58929596ceb00d14d90e3e16cd6"
   }
  }
 },
 "nbformat": 4,
 "nbformat_minor": 2
}
